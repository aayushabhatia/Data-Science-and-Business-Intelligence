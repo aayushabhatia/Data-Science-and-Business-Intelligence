{
  "nbformat": 4,
  "nbformat_minor": 0,
  "metadata": {
    "colab": {
      "provenance": [],
      "authorship_tag": "ABX9TyNABeVvgKaiZKjGZ4ZRpL2w",
      "include_colab_link": true
    },
    "kernelspec": {
      "name": "python3",
      "display_name": "Python 3"
    },
    "language_info": {
      "name": "python"
    }
  },
  "cells": [
    {
      "cell_type": "markdown",
      "metadata": {
        "id": "view-in-github",
        "colab_type": "text"
      },
      "source": [
        "<a href=\"https://colab.research.google.com/github/aayushabhatia/Data-Science-and-Business-Intelligence/blob/main/26feb_class.ipynb\" target=\"_parent\"><img src=\"https://colab.research.google.com/assets/colab-badge.svg\" alt=\"Open In Colab\"/></a>"
      ]
    },
    {
      "cell_type": "markdown",
      "source": [],
      "metadata": {
        "id": "mE3odLGAelAK"
      }
    },
    {
      "cell_type": "code",
      "execution_count": null,
      "metadata": {
        "colab": {
          "base_uri": "https://localhost:8080/"
        },
        "id": "7CF9NBzLb6di",
        "outputId": "41b4310e-fd87-43ef-af60-a50b975fffbe"
      },
      "outputs": [
        {
          "output_type": "stream",
          "name": "stdout",
          "text": [
            "All Movie Reviews:\n",
            "(1, 'Inception', 'Alice', 4.8)\n",
            "(2, 'The Dark Knight', 'Bob', 4.9)\n",
            "(3, 'Interstellar', 'Charlie', 4.7)\n",
            "(4, 'Titanic', 'David', 4.2)\n",
            "(5, 'Avengers: Endgame', 'Emma', 4.5)\n",
            "\n",
            "Average Rating Per Movie:\n",
            "('Avengers: Endgame', 4.5)\n",
            "('Inception', 4.8)\n",
            "('Interstellar', 4.7)\n",
            "('The Dark Knight', 4.9)\n",
            "('Titanic', 4.2)\n",
            "\n",
            "Highest Rated Movie: The Dark Knight with Rating: 4.9\n",
            "\n",
            "Movies with Rating Above 4.0:\n",
            "('Inception', 4.8)\n",
            "('The Dark Knight', 4.9)\n",
            "('Interstellar', 4.7)\n",
            "('Titanic', 4.2)\n",
            "('Avengers: Endgame', 4.5)\n"
          ]
        }
      ],
      "source": [
        "'''\n",
        "To store and analyze movie reviews.\n",
        "Tasks:\n",
        "1 Create a database movies.db.\n",
        "2 Create a table reviews with columns:\n",
        "  id (INTEGER, PRIMARY KEY, AUTOINCREMENT)\n",
        "  movie_name (TEXT, NOT NULL)\n",
        "  reviewer (TEXT, NOT NULL)\n",
        "  rating (REAL, NOT NULL)\n",
        "3 Insert at least 5 reviews.\n",
        "4 Display all reviews.\n",
        "5 Find the average rating per movie.\n",
        "6 Find the highest-rated movie.\n",
        "7 Display all movies with a rating above 4.0.\n",
        "'''\n",
        "\n",
        "import sqlite3\n",
        "\n",
        "# Step 1: Create database\n",
        "conn = sqlite3.connect('movies.db')\n",
        "cursor = conn.cursor()\n",
        "\n",
        "# Step 2: Create reviews table\n",
        "cursor.execute('''\n",
        "CREATE TABLE IF NOT EXISTS reviews (\n",
        "    id INTEGER PRIMARY KEY AUTOINCREMENT,\n",
        "    movie_name TEXT NOT NULL,\n",
        "    reviewer TEXT NOT NULL,\n",
        "    rating REAL NOT NULL\n",
        ")\n",
        "''')\n",
        "conn.commit()\n",
        "\n",
        "# Step 3: Insert movie reviews\n",
        "reviews_data = [\n",
        "    ('Inception', 'Alice', 4.8),\n",
        "    ('The Dark Knight', 'Bob', 4.9),\n",
        "    ('Interstellar', 'Charlie', 4.7),\n",
        "    ('Titanic', 'David', 4.2),\n",
        "    ('Avengers: Endgame', 'Emma', 4.5)\n",
        "]\n",
        "cursor.executemany(\"INSERT INTO reviews (movie_name, reviewer, rating) VALUES (?, ?, ?)\", reviews_data)\n",
        "conn.commit()\n",
        "\n",
        "# Step 4: Display all reviews\n",
        "print(\"All Movie Reviews:\")\n",
        "cursor.execute(\"SELECT * FROM reviews\")\n",
        "rows = cursor.fetchall()\n",
        "for row in rows:\n",
        "    print(row)\n",
        "\n",
        "# Step 5: Find the average rating per movie\n",
        "print(\"\\nAverage Rating Per Movie:\")\n",
        "cursor.execute(\"SELECT movie_name, AVG(rating) FROM reviews GROUP BY movie_name\")\n",
        "rows = cursor.fetchall()\n",
        "for row in rows:\n",
        "    print(row)\n",
        "\n",
        "# Step 6: Find the highest-rated movie\n",
        "cursor.execute(\"SELECT movie_name, MAX(rating) FROM reviews\")\n",
        "highest_rated = cursor.fetchone()\n",
        "print(f\"\\nHighest Rated Movie: {highest_rated[0]} with Rating: {highest_rated[1]}\")\n",
        "\n",
        "# Step 7: Display all movies with a rating above 4.0\n",
        "print(\"\\nMovies with Rating Above 4.0:\")\n",
        "cursor.execute(\"SELECT movie_name, rating FROM reviews WHERE rating > 4.0\")\n",
        "rows = cursor.fetchall()\n",
        "for row in rows:\n",
        "    print(row)\n",
        "\n",
        "# Close the database connection\n",
        "conn.close()\n"
      ]
    }
  ]
}