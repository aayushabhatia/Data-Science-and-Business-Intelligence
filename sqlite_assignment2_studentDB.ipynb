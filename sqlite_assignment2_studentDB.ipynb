{
  "nbformat": 4,
  "nbformat_minor": 0,
  "metadata": {
    "colab": {
      "provenance": [],
      "authorship_tag": "ABX9TyOw10plQAUxW+eL3xa68hQK",
      "include_colab_link": true
    },
    "kernelspec": {
      "name": "python3",
      "display_name": "Python 3"
    },
    "language_info": {
      "name": "python"
    }
  },
  "cells": [
    {
      "cell_type": "markdown",
      "metadata": {
        "id": "view-in-github",
        "colab_type": "text"
      },
      "source": [
        "<a href=\"https://colab.research.google.com/github/aayushabhatia/Data-Science-and-Business-Intelligence/blob/main/sqlite_assignment2_studentDB.ipynb\" target=\"_parent\"><img src=\"https://colab.research.google.com/assets/colab-badge.svg\" alt=\"Open In Colab\"/></a>"
      ]
    },
    {
      "cell_type": "markdown",
      "source": [
        "Aayusha Bhatia     22070122004      CSE-A"
      ],
      "metadata": {
        "id": "faIQSDVocTgQ"
      }
    },
    {
      "cell_type": "markdown",
      "source": [
        "SQLite Assignment -2"
      ],
      "metadata": {
        "id": "V2ZJycQycMpO"
      }
    },
    {
      "cell_type": "markdown",
      "source": [
        "Student Database"
      ],
      "metadata": {
        "id": "YSEZ6b_ccfWF"
      }
    },
    {
      "cell_type": "code",
      "execution_count": null,
      "metadata": {
        "colab": {
          "base_uri": "https://localhost:8080/"
        },
        "id": "Lp0XmHf-cBqz",
        "outputId": "7c9968f5-2082-4453-db49-fdefd574732f"
      },
      "outputs": [
        {
          "output_type": "stream",
          "name": "stdout",
          "text": [
            "All Student Records:\n",
            "(1, 'Alice', 20, 'A')\n",
            "(2, 'Bob', 22, 'B')\n",
            "(3, 'Charlie', 21, 'A')\n",
            "\n",
            "Updated Student Records:\n",
            "(1, 'Alice', 20, 'A')\n",
            "(2, 'Bob', 23, 'B')\n",
            "(3, 'Charlie', 21, 'A')\n",
            "\n",
            "Remaining Student Records After Deletion:\n",
            "(1, 'Alice', 20, 'A')\n",
            "(2, 'Bob', 23, 'B')\n"
          ]
        }
      ],
      "source": [
        "'''\n",
        "1. Create a database named student_records.db.\n",
        "2. Create a table students with the following columns:\n",
        "    • id (INTEGER, PRIMARY KEY, AUTOINCREMENT)\n",
        "    • name (TEXT, NOT NULL)\n",
        "    • age (INTEGER, NOT NULL)\n",
        "    • grade (TEXT, NOT NULL)\n",
        "3. Insert at least three student records into the table.\n",
        "4. Retrieve and display all records from the students table.\n",
        "5. Update the age of one student and display the updated records.\n",
        "6. Delete one student record and display the remaining records.\n",
        "7. Close the database connection after all operations.\n",
        "'''\n",
        "\n",
        "import sqlite3\n",
        "\n",
        "# Step 1: Create database\n",
        "conn = sqlite3.connect('student_records.db')\n",
        "cursor = conn.cursor()\n",
        "\n",
        "# Step 2: Create students table\n",
        "cursor.execute('''\n",
        "CREATE TABLE IF NOT EXISTS students (\n",
        "    id INTEGER PRIMARY KEY AUTOINCREMENT,\n",
        "    name TEXT NOT NULL,\n",
        "    age INTEGER NOT NULL,\n",
        "    grade TEXT NOT NULL\n",
        ")\n",
        "''')\n",
        "conn.commit()\n",
        "\n",
        "# Step 3: Insert student records\n",
        "students_data = [\n",
        "    ('Alice', 20, 'A'),\n",
        "    ('Bob', 22, 'B'),\n",
        "    ('Charlie', 21, 'A')\n",
        "]\n",
        "cursor.executemany(\"INSERT INTO students (name, age, grade) VALUES (?, ?, ?)\", students_data)\n",
        "conn.commit()\n",
        "\n",
        "# Step 4: Retrieve and display all records\n",
        "print(\"All Student Records:\")\n",
        "cursor.execute(\"SELECT * FROM students\")\n",
        "rows = cursor.fetchall()\n",
        "for row in rows:\n",
        "    print(row)\n",
        "\n",
        "# Step 5: Update age of one student\n",
        "cursor.execute(\"UPDATE students SET age = 23 WHERE name = 'Bob'\")\n",
        "conn.commit()\n",
        "print(\"\\nUpdated Student Records:\")\n",
        "cursor.execute(\"SELECT * FROM students\")\n",
        "rows = cursor.fetchall()\n",
        "for row in rows:\n",
        "    print(row)\n",
        "\n",
        "# Step 6: Delete one student record\n",
        "cursor.execute(\"DELETE FROM students WHERE name = 'Charlie'\")\n",
        "conn.commit()\n",
        "print(\"\\nRemaining Student Records After Deletion:\")\n",
        "cursor.execute(\"SELECT * FROM students\")\n",
        "rows = cursor.fetchall()\n",
        "for row in rows:\n",
        "    print(row)\n",
        "\n",
        "# Step 7: Close the database connection\n",
        "conn.close()\n"
      ]
    }
  ]
}