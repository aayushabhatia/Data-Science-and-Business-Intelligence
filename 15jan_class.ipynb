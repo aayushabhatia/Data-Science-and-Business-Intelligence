{
  "nbformat": 4,
  "nbformat_minor": 0,
  "metadata": {
    "colab": {
      "provenance": [],
      "authorship_tag": "ABX9TyMDuPLTAoQi3OAFchEhZHB1",
      "include_colab_link": true
    },
    "kernelspec": {
      "name": "python3",
      "display_name": "Python 3"
    },
    "language_info": {
      "name": "python"
    }
  },
  "cells": [
    {
      "cell_type": "markdown",
      "metadata": {
        "id": "view-in-github",
        "colab_type": "text"
      },
      "source": [
        "<a href=\"https://colab.research.google.com/github/aayushabhatia/Data-Science-and-Business-Intelligence/blob/main/15jan_class.ipynb\" target=\"_parent\"><img src=\"https://colab.research.google.com/assets/colab-badge.svg\" alt=\"Open In Colab\"/></a>"
      ]
    },
    {
      "cell_type": "code",
      "execution_count": null,
      "metadata": {
        "id": "VyL2gbp5-013"
      },
      "outputs": [],
      "source": []
    },
    {
      "cell_type": "code",
      "source": [
        "# Taking input of my name and printing letters in it\n",
        "name = input(\"Enter your name: \")\n",
        "print(\"The letters in your name are:\")\n",
        "for letter in name:\n",
        "    print(letter)\n"
      ],
      "metadata": {
        "colab": {
          "base_uri": "https://localhost:8080/"
        },
        "id": "PP8-JaHSHyph",
        "outputId": "183b22e2-e3c4-460f-e3f1-802b23a6450d"
      },
      "execution_count": 2,
      "outputs": [
        {
          "output_type": "stream",
          "name": "stdout",
          "text": [
            "Elements of list:\n",
            "['Abc', 3, 'Def']\n",
            "Enter your name: Aayusha Bhatia\n",
            "The letters in your name are:\n",
            "A\n",
            "a\n",
            "y\n",
            "u\n",
            "s\n",
            "h\n",
            "a\n",
            " \n",
            "B\n",
            "h\n",
            "a\n",
            "t\n",
            "i\n",
            "a\n"
          ]
        }
      ]
    },
    {
      "cell_type": "code",
      "source": [
        "# Creating a matrix of 3x3\n",
        "\n",
        "matrix = []\n",
        "print(\"Enter the elements of the 3x3 matrix row by row:\")\n",
        "\n",
        "for i in range(3):\n",
        "    row = []\n",
        "    for j in range(3):\n",
        "        element = int(input(f\"Enter element for position ({i+1}, {j+1}): \"))\n",
        "        row.append(element)\n",
        "    matrix.append(row)\n",
        "\n",
        "print(\"\\nThe 3x3 matrix is:\")\n",
        "for row in matrix:\n",
        "    print(row)\n"
      ],
      "metadata": {
        "colab": {
          "base_uri": "https://localhost:8080/"
        },
        "id": "2zrr1rQwJE1J",
        "outputId": "f0692d1e-3a69-4d0c-adec-8815bb963474"
      },
      "execution_count": 3,
      "outputs": [
        {
          "output_type": "stream",
          "name": "stdout",
          "text": [
            "Enter the elements of the 3x3 matrix row by row:\n",
            "Enter element for position (1, 1): 1\n",
            "Enter element for position (1, 2): 2\n",
            "Enter element for position (1, 3): 3\n",
            "Enter element for position (2, 1): 4\n",
            "Enter element for position (2, 2): 5\n",
            "Enter element for position (2, 3): 6\n",
            "Enter element for position (3, 1): 7\n",
            "Enter element for position (3, 2): 8\n",
            "Enter element for position (3, 3): 9\n",
            "\n",
            "The 3x3 matrix is:\n",
            "[1, 2, 3]\n",
            "[4, 5, 6]\n",
            "[7, 8, 9]\n"
          ]
        }
      ]
    },
    {
      "cell_type": "code",
      "source": [
        "# creating a 3x3 matrix in python by entering elements of complete matrix and finding element in a given position\n",
        "\n",
        "elements = input(\"Enter 9 elements for a 3x3 matrix row wise: \").split()\n",
        "if len(elements) != 9:\n",
        "    print(\"Error: Please enter exactly 9 elements.\")\n",
        "else:\n",
        "    # Convert the input into a 3x3 matrix\n",
        "    matrix = [elements[i:i+3] for i in range(0, 9, 3)]\n",
        "    print(\"Your 3x3 matrix is:\")\n",
        "    for row in matrix:\n",
        "        print(row)\n",
        "\n",
        "    # finding element in matrix\n",
        "    row = int(input(\"Enter the row (0-2): \"))\n",
        "    col = int(input(\"Enter the column (0-2): \"))\n",
        "    if 0 <= row < 3 and 0 <= col < 3:\n",
        "        print(f\"The element at position ({row}, {col}) is: {matrix[row][col]}\")\n",
        "    else:\n",
        "        print(\"Error: Invalid position. Row and column must be between 0 and 2.\")\n"
      ],
      "metadata": {
        "colab": {
          "base_uri": "https://localhost:8080/"
        },
        "id": "OPXiZ8cVKs1-",
        "outputId": "e04f0c31-c914-42ed-a967-64ddb6a71c10"
      },
      "execution_count": 2,
      "outputs": [
        {
          "output_type": "stream",
          "name": "stdout",
          "text": [
            "Enter 9 elements for a 3x3 matrix: 1 2 3 4 5 6 7 8 9\n",
            "Your 3x3 matrix is:\n",
            "['1', '2', '3']\n",
            "['4', '5', '6']\n",
            "['7', '8', '9']\n",
            "Enter the row (0-2): 2\n",
            "Enter the column (0-2): 1\n",
            "The element at position (2, 1) is: 8\n"
          ]
        }
      ]
    }
  ]
}