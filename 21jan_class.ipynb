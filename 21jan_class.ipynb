{
  "nbformat": 4,
  "nbformat_minor": 0,
  "metadata": {
    "colab": {
      "provenance": [],
      "authorship_tag": "ABX9TyP/qXR/27v+XsG84q+K9GUy",
      "include_colab_link": true
    },
    "kernelspec": {
      "name": "python3",
      "display_name": "Python 3"
    },
    "language_info": {
      "name": "python"
    }
  },
  "cells": [
    {
      "cell_type": "markdown",
      "metadata": {
        "id": "view-in-github",
        "colab_type": "text"
      },
      "source": [
        "<a href=\"https://colab.research.google.com/github/aayushabhatia/Data-Science-and-Business-Intelligence/blob/main/21jan_class.ipynb\" target=\"_parent\"><img src=\"https://colab.research.google.com/assets/colab-badge.svg\" alt=\"Open In Colab\"/></a>"
      ]
    },
    {
      "cell_type": "code",
      "execution_count": null,
      "metadata": {
        "id": "qjEmlobmHoMH"
      },
      "outputs": [],
      "source": []
    },
    {
      "cell_type": "markdown",
      "source": [
        "Python data types- string, integer, float, complex, bool, list, tuple, dictionary\n"
      ],
      "metadata": {
        "id": "Ot2Kx20zNP-r"
      }
    },
    {
      "cell_type": "code",
      "source": [
        "List=[\"ab\",1,1.5]\n",
        "print(\"\\nPrinting List:\",List)\n",
        "Dict={'Name':'ab', 1:[1,2,3,4]}\n",
        "print(\"\\nPrinting Dictionary:\",Dict)"
      ],
      "metadata": {
        "colab": {
          "base_uri": "https://localhost:8080/"
        },
        "id": "ClaptTf2NZrZ",
        "outputId": "c5ca6fdf-3d6a-479a-bd6b-68d2dabeff52"
      },
      "execution_count": 5,
      "outputs": [
        {
          "output_type": "stream",
          "name": "stdout",
          "text": [
            "\n",
            "Printing List: ['ab', 1, 1.5]\n",
            "\n",
            "Printing Dictionary: {'Name': 'ab', 1: [1, 2, 3, 4]}\n"
          ]
        }
      ]
    },
    {
      "cell_type": "code",
      "source": [
        "# create a list of students having name, prn, cgpa\n",
        "Student_List=[[\"Aastha Arora\",22070122003, 8.75],[\"Aayusha Bhatia\",22070122004, 8.89]]\n",
        "print(\"Printing List of students: \",Student_List)\n",
        "\n",
        "# create a dictionary of students having name, prn, cgpa\n",
        "Student_Dict = {\"Student1\": {\"Name\": \"Aastha Arora\", \"PRN\": 22070122003, \"CGPA\": 8.75},\"Student2\": {\"Name\": \"Aayusha Bhatia\", \"PRN\": 22070122004, \"CGPA\": 8.89}}\n",
        "print(\"Printing Dictionary of students: \",Student_Dict)\n",
        "\n",
        "# create a tuple with your details\n",
        "My_tuple=('Aayusha Bhatia', 20, \"16-Nov-2004\", 203, \"Delhi\")\n",
        "print(\"Printing tuple of my details: \",My_tuple)\n",
        "\n",
        "# create a set with your details\n",
        "My_set = {\"Aayusha Bhatia\", 20, \"16-Nov-2004\", 203, \"Delhi\"}\n",
        "print(\"Printing set of my details: \", My_set)"
      ],
      "metadata": {
        "colab": {
          "base_uri": "https://localhost:8080/"
        },
        "id": "jV_OTqRNOpNB",
        "outputId": "401e5063-8b13-4f38-96ef-d7459e161b9d"
      },
      "execution_count": 12,
      "outputs": [
        {
          "output_type": "stream",
          "name": "stdout",
          "text": [
            "Printing List of students:  [['Aastha Arora', 22070122003, 8.75], ['Aayusha Bhatia', 22070122004, 8.89]]\n",
            "Printing Dictionary of students:  {'Student1': {'Name': 'Aastha Arora', 'PRN': 22070122003, 'CGPA': 8.75}, 'Student2': {'Name': 'Aayusha Bhatia', 'PRN': 22070122004, 'CGPA': 8.89}}\n",
            "Printing tuple of my details:  ('Aayusha Bhatia', 20, '16-Nov-2004', 203, 'Delhi')\n",
            "Printing set of my details:  {'16-Nov-2004', 20, 'Aayusha Bhatia', 203, 'Delhi'}\n"
          ]
        }
      ]
    },
    {
      "cell_type": "code",
      "source": [
        "# create a menu driven arithemtic calculator\n",
        "\n",
        "def calculator():\n",
        "    while True:\n",
        "        print(\"Select option:\")\n",
        "        print(\"1. Addition\")\n",
        "        print(\"2. Subtraction\")\n",
        "        print(\"3. Multiplication\")\n",
        "        print(\"4. Division\")\n",
        "        print(\"5. Exit\")\n",
        "\n",
        "        choice = int(input(\"Enter your choice (1-5): \"))\n",
        "\n",
        "        if choice in [1, 2, 3, 4]:\n",
        "            num1 = float(input(\"Enter the first number: \"))\n",
        "            num2 = float(input(\"Enter the second number: \"))\n",
        "            if choice == 1:\n",
        "                print(f\"Result: {num1} + {num2} = {num1 + num2}\")\n",
        "            elif choice == 2:\n",
        "                print(f\"Result: {num1} - {num2} = {num1 - num2}\")\n",
        "            elif choice == 3:\n",
        "                print(f\"Result: {num1} * {num2} = {num1 * num2}\")\n",
        "            elif choice == 4:\n",
        "                if num2 != 0:\n",
        "                    print(f\"Result: {num1} / {num2} = {num1 / num2}\")\n",
        "                else:\n",
        "                    print(\"Division by zero is not allowed\")\n",
        "        else:\n",
        "            print(\"Invalid choice. Please select a valid option.\")\n",
        "\n",
        "        if choice == 5:\n",
        "            print(\"Exiting\")\n",
        "            break\n",
        "\n",
        "calculator()\n",
        "\n"
      ],
      "metadata": {
        "colab": {
          "base_uri": "https://localhost:8080/"
        },
        "id": "FtWpnQVhTTFE",
        "outputId": "e9aab3b8-87a9-486e-d6b9-4c1d0c2542f5"
      },
      "execution_count": 15,
      "outputs": [
        {
          "output_type": "stream",
          "name": "stdout",
          "text": [
            "Select option:\n",
            "1. Addition\n",
            "2. Subtraction\n",
            "3. Multiplication\n",
            "4. Division\n",
            "5. Exit\n",
            "Enter your choice (1-5): 1\n",
            "Enter the first number: 24\n",
            "Enter the second number: 32\n",
            "Result: 24.0 + 32.0 = 56.0\n",
            "Select option:\n",
            "1. Addition\n",
            "2. Subtraction\n",
            "3. Multiplication\n",
            "4. Division\n",
            "5. Exit\n",
            "Enter your choice (1-5): 2\n",
            "Enter the first number: 18\n",
            "Enter the second number: 40\n",
            "Result: 18.0 - 40.0 = -22.0\n",
            "Select option:\n",
            "1. Addition\n",
            "2. Subtraction\n",
            "3. Multiplication\n",
            "4. Division\n",
            "5. Exit\n",
            "Enter your choice (1-5): 3\n",
            "Enter the first number: 14\n",
            "Enter the second number: 5\n",
            "Result: 14.0 * 5.0 = 70.0\n",
            "Select option:\n",
            "1. Addition\n",
            "2. Subtraction\n",
            "3. Multiplication\n",
            "4. Division\n",
            "5. Exit\n",
            "Enter your choice (1-5): 4\n",
            "Enter the first number: 125\n",
            "Enter the second number: 25\n",
            "Result: 125.0 / 25.0 = 5.0\n",
            "Select option:\n",
            "1. Addition\n",
            "2. Subtraction\n",
            "3. Multiplication\n",
            "4. Division\n",
            "5. Exit\n",
            "Enter your choice (1-5): 5\n",
            "Invalid choice. Please select a valid option.\n",
            "Exiting\n"
          ]
        }
      ]
    },
    {
      "cell_type": "code",
      "source": [
        "# write a program to find simple interest of hdfc bank of fixed deposit of 2L rupees, tenure should be checked and age should also be checked if senior citizen or not. The person depositing is senior citizen here and tenure is 10 years.\n",
        "'''\n",
        "Tenor Bucket\t< 3 Crore\n",
        "Interest Rate (per annum)\t**Senior Citizen Rates (per annum)\n",
        "7 - 14 days\t3.00%\t3.50%\n",
        "15 - 29 days\t3.00%\t3.50%\n",
        "30 - 45 days\t3.50%\t4.00%\n",
        "46 - 60 days\t4.50%\t5.00%\n",
        "61 - 89 days\t4.50%\t5.00%\n",
        "90 days < = 6 months\t4.50%\t5.00%\n",
        "6 months 1 days < = 9 months\t5.75%\t6.25%\n",
        "9 months 1 day to < 1 year\t6.00%\t6.50%\n",
        "1 year to < 15 months\t6.60%\t7.10%\n",
        "15 months to < 18 months\t7.10%\t7.60%\n",
        "18 months to < 21 months\t7.25%\t7.75%\n",
        "21 months - 2 years\t7.00%\t7.50%\n",
        "2 Years 1 day to < 2 Year 11 Months\t7.00%\t7.50%\n",
        "2 Years 11 Months - 35 Months\t7.35%\t7.85%\n",
        "2 Years 11 Months 1 day < = 3 Year\t7.00%\t7.50%\n",
        "3 Years 1 day to < 4 Years 7 Months\t7.00%\t7.50%\n",
        "4 Year 7 Months - 55 months\t7.40%\t7.90%\n",
        "4 Year 7 Months 1 day < = 5 Years\t7.00%\t7.50%\n",
        "5 Years 1 day - 10 Years\t7.00%\t7.50%\n",
        "'''\n",
        "\n",
        "def calculate_simple_interest(principal, rate, time):\n",
        "    return (principal * rate * time) / 100\n",
        "\n",
        "def get_interest_rate(tenure, is_senior):\n",
        "    if 7 <= tenure <= 14:\n",
        "        return 3.50 if is_senior else 3.00\n",
        "    elif 15 <= tenure <= 29:\n",
        "        return 3.50 if is_senior else 3.00\n",
        "    elif 30 <= tenure <= 45:\n",
        "        return 4.00 if is_senior else 3.50\n",
        "    elif 46 <= tenure <= 60:\n",
        "        return 5.00 if is_senior else 4.50\n",
        "    elif 61 <= tenure <= 89:\n",
        "        return 5.00 if is_senior else 4.50\n",
        "    elif 90 <= tenure <= 180:\n",
        "        return 5.00 if is_senior else 4.50\n",
        "    elif 181 <= tenure <= 270:\n",
        "        return 6.25 if is_senior else 5.75\n",
        "    elif 271 <= tenure < 365:\n",
        "        return 6.50 if is_senior else 6.00\n",
        "    elif 365 <= tenure < 455:\n",
        "        return 7.10 if is_senior else 6.60\n",
        "    elif 455 <= tenure < 540:\n",
        "        return 7.60 if is_senior else 7.10\n",
        "    elif 540 <= tenure < 630:\n",
        "        return 7.75 if is_senior else 7.25\n",
        "    elif 630 <= tenure <= 730:\n",
        "        return 7.50 if is_senior else 7.00\n",
        "    elif 731 <= tenure < 1055:\n",
        "        return 7.50 if is_senior else 7.00\n",
        "    elif 1055 <= tenure < 1095:\n",
        "        return 7.85 if is_senior else 7.35\n",
        "    elif 1095 <= tenure <= 1277:\n",
        "        return 7.50 if is_senior else 7.00\n",
        "    elif 1278 <= tenure <= 1642:\n",
        "        return 7.50 if is_senior else 7.00\n",
        "    elif 1643 <= tenure <= 1660:\n",
        "        return 7.90 if is_senior else 7.40\n",
        "    elif 1661 <= tenure <= 1825:\n",
        "        return 7.50 if is_senior else 7.00\n",
        "    else:\n",
        "        return 0\n",
        "\n",
        "principal = float(input(\"Enter the fixed deposit amount: \"))\n",
        "tenure = int(input(\"Enter the tenure in days: \"))\n",
        "age = int(input(\"Enter your age: \"))\n",
        "\n",
        "is_senior = age >= 60\n",
        "rate = get_interest_rate(tenure, is_senior)\n",
        "\n",
        "if rate == 0:\n",
        "    print(\"Invalid tenure. Please provide a valid tenure.\")\n",
        "else:\n",
        "    time_in_years = tenure / 365\n",
        "    interest = calculate_simple_interest(principal, rate, time_in_years)\n",
        "\n",
        "    print(f\"\\nDetails:\")\n",
        "    print(f\"Principal Amount: ₹{principal}\")\n",
        "    print(f\"Tenure: {tenure} days\")\n",
        "    print(f\"Age: {age} years ({'Senior Citizen' if is_senior else 'Non-Senior Citizen'})\")\n",
        "    print(f\"Interest Rate: {rate}% per annum\")\n",
        "    print(f\"Simple Interest Earned: ₹{interest:.2f}\")\n",
        "\n"
      ],
      "metadata": {
        "colab": {
          "base_uri": "https://localhost:8080/"
        },
        "id": "NGSuPIDkVlvV",
        "outputId": "0ca2964e-0f76-464c-8990-1f890f18f6bd"
      },
      "execution_count": 17,
      "outputs": [
        {
          "output_type": "stream",
          "name": "stdout",
          "text": [
            "Enter the fixed deposit amount: 200000\n",
            "Enter the tenure in days: 93\n",
            "Enter your age: 65\n",
            "\n",
            "Details:\n",
            "Principal Amount: ₹200000.0\n",
            "Tenure: 93 days\n",
            "Age: 65 years (Senior Citizen)\n",
            "Interest Rate: 5.0% per annum\n",
            "Simple Interest Earned: ₹2547.95\n"
          ]
        }
      ]
    }
  ]
}