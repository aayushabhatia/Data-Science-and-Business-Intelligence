{
  "nbformat": 4,
  "nbformat_minor": 0,
  "metadata": {
    "colab": {
      "provenance": [],
      "authorship_tag": "ABX9TyOsj02L8SZk5gJHmJCWXe2r",
      "include_colab_link": true
    },
    "kernelspec": {
      "name": "python3",
      "display_name": "Python 3"
    },
    "language_info": {
      "name": "python"
    }
  },
  "cells": [
    {
      "cell_type": "markdown",
      "metadata": {
        "id": "view-in-github",
        "colab_type": "text"
      },
      "source": [
        "<a href=\"https://colab.research.google.com/github/aayushabhatia/Data-Science-and-Business-Intelligence/blob/main/sqlite_assignment1_ecommerceDB.ipynb\" target=\"_parent\"><img src=\"https://colab.research.google.com/assets/colab-badge.svg\" alt=\"Open In Colab\"/></a>"
      ]
    },
    {
      "cell_type": "markdown",
      "source": [
        "Aayusha Bhatia 22070122004 CSE-A"
      ],
      "metadata": {
        "id": "5Lb-6_ohdfR6"
      }
    },
    {
      "cell_type": "markdown",
      "source": [
        "SQLite Assignment - 1"
      ],
      "metadata": {
        "id": "hq6igz0PdgkI"
      }
    },
    {
      "cell_type": "markdown",
      "source": [
        "E-commerce Database"
      ],
      "metadata": {
        "id": "S5_vNj5LdjI-"
      }
    },
    {
      "cell_type": "code",
      "execution_count": null,
      "metadata": {
        "colab": {
          "base_uri": "https://localhost:8080/"
        },
        "id": "EJVwb5dRdYg3",
        "outputId": "a692fb76-e67c-49f7-86f6-3cd3caec9c23"
      },
      "outputs": [
        {
          "output_type": "stream",
          "name": "stdout",
          "text": [
            "All Available Products:\n",
            "(1, 'Laptop', 999.99, 10)\n",
            "(2, 'Smartphone', 699.99, 15)\n",
            "(3, 'Headphones', 199.99, 20)\n",
            "(4, 'Keyboard', 49.99, 30)\n",
            "(5, 'Mouse', 29.99, 25)\n",
            "Total Bill: $1899.97\n"
          ]
        }
      ],
      "source": [
        "'''\n",
        "To manage an e-commerce shopping cart.\n",
        "\n",
        "Tasks:\n",
        "1.Create a database shop.db.\n",
        "2.Create a table products with columns:\n",
        "•id (INTEGER, PRIMARY KEY, AUTOINCREMENT)\n",
        "•name (TEXT, NOT NULL)\n",
        "•price (REAL, NOT NULL)\n",
        "•stock (INTEGER, NOT NULL)\n",
        "3.Insert at least 5 products into the table.\n",
        "4.Display all available products.\n",
        "5.Implement a function to add a product to the cart (reduce stock by 1).\n",
        "6.Implement a function to remove a product from the cart (increase stock by 1).\n",
        "7.Display the total bill for items in the cart.\n",
        "'''\n",
        "\n",
        "import sqlite3\n",
        "\n",
        "# Step 1: Create database\n",
        "conn = sqlite3.connect('shop.db')\n",
        "cursor = conn.cursor()\n",
        "\n",
        "# Step 2: Create products table\n",
        "cursor.execute('''\n",
        "CREATE TABLE IF NOT EXISTS products (\n",
        "    id INTEGER PRIMARY KEY AUTOINCREMENT,\n",
        "    name TEXT NOT NULL,\n",
        "    price REAL NOT NULL,\n",
        "    stock INTEGER NOT NULL\n",
        ")\n",
        "''')\n",
        "conn.commit()\n",
        "\n",
        "# Step 3: Insert product records\n",
        "products_data = [\n",
        "    ('Laptop', 999.99, 10),\n",
        "    ('Smartphone', 699.99, 15),\n",
        "    ('Headphones', 199.99, 20),\n",
        "    ('Keyboard', 49.99, 30),\n",
        "    ('Mouse', 29.99, 25)\n",
        "]\n",
        "cursor.executemany(\"INSERT INTO products (name, price, stock) VALUES (?, ?, ?)\", products_data)\n",
        "conn.commit()\n",
        "\n",
        "# Step 4: Display all available products\n",
        "print(\"All Available Products:\")\n",
        "cursor.execute(\"SELECT * FROM products\")\n",
        "rows = cursor.fetchall()\n",
        "for row in rows:\n",
        "    print(row)\n",
        "\n",
        "# Step 5: Function to add a product to the cart\n",
        "def add_to_cart(product_id):\n",
        "    cursor.execute(\"UPDATE products SET stock = stock - 1 WHERE id = ? AND stock > 0\", (product_id,))\n",
        "    conn.commit()\n",
        "\n",
        "# Step 6: Function to remove a product from the cart\n",
        "def remove_from_cart(product_id):\n",
        "    cursor.execute(\"UPDATE products SET stock = stock + 1 WHERE id = ?\", (product_id,))\n",
        "    conn.commit()\n",
        "\n",
        "# Step 7: Display the total bill\n",
        "def calculate_total_bill(cart):\n",
        "    total = 0\n",
        "    for product_id in cart:\n",
        "        cursor.execute(\"SELECT price FROM products WHERE id = ?\", (product_id,))\n",
        "        price = cursor.fetchone()\n",
        "        if price:\n",
        "            total += price[0]\n",
        "    print(f\"Total Bill: ${total:.2f}\")\n",
        "    return total\n",
        "\n",
        "# Example usage\n",
        "cart = [1, 2, 3]  # Example product IDs in cart\n",
        "calculate_total_bill(cart)\n",
        "\n",
        "# Step 8: Close the database connection\n",
        "conn.close()\n"
      ]
    }
  ]
}